{
  "nbformat": 4,
  "nbformat_minor": 0,
  "metadata": {
    "colab": {
      "provenance": [],
      "include_colab_link": true
    },
    "kernelspec": {
      "name": "python3",
      "display_name": "Python 3"
    },
    "language_info": {
      "name": "python"
    }
  },
  "cells": [
    {
      "cell_type": "markdown",
      "metadata": {
        "id": "view-in-github",
        "colab_type": "text"
      },
      "source": [
        "<a href=\"https://colab.research.google.com/github/justofuentes002/Tarea2/blob/main/Tarea2_AGRICOLA.ipynb\" target=\"_parent\"><img src=\"https://colab.research.google.com/assets/colab-badge.svg\" alt=\"Open In Colab\"/></a>"
      ]
    },
    {
      "cell_type": "markdown",
      "source": [
        "# INTRODUCCIÓN\n",
        "\n",
        "NOTA: LE CORRESPONDE A justorfc@gmail.com\n",
        "\n"
      ],
      "metadata": {
        "id": "fNAIvII14Xcv"
      }
    },
    {
      "cell_type": "markdown",
      "source": [
        "# ECUACION 1\n",
        "\n",
        "NOTA: LE CORRESPONDE A justo.fuentes@unisucrevirtual.edu.co\n"
      ],
      "metadata": {
        "id": "UPqqj2_M4b2_"
      }
    },
    {
      "cell_type": "code",
      "source": [],
      "metadata": {
        "id": "ZLUns1j14fQA"
      },
      "execution_count": null,
      "outputs": []
    },
    {
      "cell_type": "markdown",
      "source": [
        "# ECUACION 2\n",
        "\n",
        "NOTA: LE CORRESPONDE A justo.fuentes@unisucre.edu.co\n",
        "\n",
        "$$\n",
        "B = \\frac{2 * H}{Tan(\\alpha)}\n",
        "$$"
      ],
      "metadata": {
        "id": "ACqpAQ3y4gyx"
      }
    },
    {
      "cell_type": "code",
      "source": [
        "import math\n",
        "\n",
        "r = math.pi / 180\n",
        "\n",
        "h = float(input(\"Ingrese Altura H:\\n\"))\n",
        "alfa = float(Input(\"Ingrese alfa: \\n\"))\n",
        "\n",
        "b = 2 * h / math.tan(alfa * r)\n",
        "\n",
        "print(\"B = \", b)"
      ],
      "metadata": {
        "id": "TK_K8OG58v_1"
      },
      "execution_count": null,
      "outputs": []
    },
    {
      "cell_type": "markdown",
      "source": [
        "## Explicación del código de la Base\n",
        "\n",
        "El código proporcionado en Python realiza un cálculo simple relacionado con la geometría y la trigonometría. A continuación, se proporciona una explicación detallada en formato Markdown:\n",
        "\n",
        "```python\n",
        "1. import math\n",
        "```\n",
        "\n",
        "Este primer paso importa el módulo `math`, que proporciona funciones matemáticas y constantes, como el valor de π (pi) necesario para realizar cálculos trigonométricos.\n",
        "\n",
        "```python\n",
        "2. r = math.pi / 180\n",
        "```\n",
        "\n",
        "Se define la variable `r` que almacena el valor de π dividido por 180. Esta línea es parte de la conversión de grados a radianes. En matemáticas y trigonometría, a menudo se trabaja en radianes en lugar de grados para realizar cálculos trigonométricos.\n",
        "\n",
        "```python\n",
        "3. h = float(input(\"Ingrese Altura H:\\n\"))\n",
        "```\n",
        "\n",
        "Se solicita al usuario que ingrese un valor para la altura `H` y se almacena en la variable `h`. La función `float(input(...))` se utiliza para leer la entrada del usuario como un número decimal (valor de coma flotante).\n",
        "\n",
        "```python\n",
        "4. alfa = float(input(\"Ingrese alfa: \\n\"))\n",
        "```\n",
        "\n",
        "Similarmente, se solicita al usuario que ingrese un valor para el ángulo `alfa` y se almacena en la variable `alfa`.\n",
        "\n",
        "```python\n",
        "5. b = 2 * h / math.tan(alfa * r)\n",
        "```\n",
        "\n",
        "Aquí es donde se realiza el cálculo principal. Se calcula el valor de `b` utilizando la fórmula `2 * h / tan(alfa)`, pero antes de eso, el ángulo `alfa` se convierte de grados a radianes multiplicándolo por `r`.\n",
        "\n",
        "- `2 * h` multiplica la altura `h` por 2.\n",
        "- `math.tan(alfa * r)` calcula la tangente del ángulo `alfa` convertido a radianes.\n",
        "\n",
        "Luego, se divide `2 * h` por el resultado de la tangente para obtener el valor de `b`. El resultado es almacenado en la variable `b`.\n",
        "\n",
        "```python\n",
        "6. print(\"B = \", b)\n",
        "```\n",
        "\n",
        "Finalmente, se muestra el resultado en la consola utilizando la función `print()`. El valor de `b` calculado se imprime en la pantalla junto con la etiqueta \"B = \".\n",
        "\n",
        "**Ejemplo de uso:**\n",
        "Supongamos que el usuario ingresa:\n",
        "- `Altura H` como 10 (por ejemplo, una altura de 10 metros).\n",
        "- `alfa` como 30 (por ejemplo, un ángulo de 30 grados).\n",
        "\n",
        "El programa calculará `b` utilizando la fórmula proporcionada y mostrará el resultado en la pantalla.\n",
        "\n",
        "Es importante destacar que este código realiza un cálculo específico basado en la altura y el ángulo proporcionados por el usuario, lo que puede ser útil en aplicaciones relacionadas con la geometría y la trigonometría, como la resolución de problemas de diseño o construcción."
      ],
      "metadata": {
        "id": "M_N43fZq-8b2"
      }
    },
    {
      "cell_type": "code",
      "source": [
        "dir(math)"
      ],
      "metadata": {
        "colab": {
          "base_uri": "https://localhost:8080/"
        },
        "id": "HFJEmnD39B-D",
        "outputId": "31609f2a-8b56-4005-bf52-4e4c4c10ccad"
      },
      "execution_count": null,
      "outputs": [
        {
          "output_type": "execute_result",
          "data": {
            "text/plain": [
              "['__doc__',\n",
              " '__loader__',\n",
              " '__name__',\n",
              " '__package__',\n",
              " '__spec__',\n",
              " 'acos',\n",
              " 'acosh',\n",
              " 'asin',\n",
              " 'asinh',\n",
              " 'atan',\n",
              " 'atan2',\n",
              " 'atanh',\n",
              " 'ceil',\n",
              " 'comb',\n",
              " 'copysign',\n",
              " 'cos',\n",
              " 'cosh',\n",
              " 'degrees',\n",
              " 'dist',\n",
              " 'e',\n",
              " 'erf',\n",
              " 'erfc',\n",
              " 'exp',\n",
              " 'expm1',\n",
              " 'fabs',\n",
              " 'factorial',\n",
              " 'floor',\n",
              " 'fmod',\n",
              " 'frexp',\n",
              " 'fsum',\n",
              " 'gamma',\n",
              " 'gcd',\n",
              " 'hypot',\n",
              " 'inf',\n",
              " 'isclose',\n",
              " 'isfinite',\n",
              " 'isinf',\n",
              " 'isnan',\n",
              " 'isqrt',\n",
              " 'lcm',\n",
              " 'ldexp',\n",
              " 'lgamma',\n",
              " 'log',\n",
              " 'log10',\n",
              " 'log1p',\n",
              " 'log2',\n",
              " 'modf',\n",
              " 'nan',\n",
              " 'nextafter',\n",
              " 'perm',\n",
              " 'pi',\n",
              " 'pow',\n",
              " 'prod',\n",
              " 'radians',\n",
              " 'remainder',\n",
              " 'sin',\n",
              " 'sinh',\n",
              " 'sqrt',\n",
              " 'tan',\n",
              " 'tanh',\n",
              " 'tau',\n",
              " 'trunc',\n",
              " 'ulp']"
            ]
          },
          "metadata": {},
          "execution_count": 2
        }
      ]
    },
    {
      "cell_type": "code",
      "source": [
        "import math\n",
        "\n",
        "r = math.pi / 180\n",
        "\n",
        "math.sin(90*r)"
      ],
      "metadata": {
        "id": "bzcyBQ394jrQ",
        "colab": {
          "base_uri": "https://localhost:8080/"
        },
        "outputId": "140b0548-8f98-464e-c385-07a5c005e65b"
      },
      "execution_count": null,
      "outputs": [
        {
          "output_type": "execute_result",
          "data": {
            "text/plain": [
              "1.0"
            ]
          },
          "metadata": {},
          "execution_count": 2
        }
      ]
    },
    {
      "cell_type": "markdown",
      "source": [
        "# ECUACION 3\n",
        "\n",
        "NOTA: LE CORRESPONDE A justo.fuentes95@unisucrevirtual.edu.co"
      ],
      "metadata": {
        "id": "DN9Y_afx4ktI"
      }
    },
    {
      "cell_type": "code",
      "source": [],
      "metadata": {
        "id": "UTcjiLqi4m94"
      },
      "execution_count": null,
      "outputs": []
    }
  ]
}