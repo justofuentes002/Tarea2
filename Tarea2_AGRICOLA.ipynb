{
  "nbformat": 4,
  "nbformat_minor": 0,
  "metadata": {
    "colab": {
      "provenance": [],
      "include_colab_link": true
    },
    "kernelspec": {
      "name": "python3",
      "display_name": "Python 3"
    },
    "language_info": {
      "name": "python"
    }
  },
  "cells": [
    {
      "cell_type": "markdown",
      "metadata": {
        "id": "view-in-github",
        "colab_type": "text"
      },
      "source": [
        "<a href=\"https://colab.research.google.com/github/justofuentes002/Tarea2/blob/main/Tarea2_AGRICOLA.ipynb\" target=\"_parent\"><img src=\"https://colab.research.google.com/assets/colab-badge.svg\" alt=\"Open In Colab\"/></a>"
      ]
    },
    {
      "cell_type": "markdown",
      "source": [
        "# INTRODUCCIÓN\n",
        "\n",
        "NOTA: LE CORRESPONDE A justorfc@gmail.com\n",
        "\n"
      ],
      "metadata": {
        "id": "fNAIvII14Xcv"
      }
    },
    {
      "cell_type": "markdown",
      "source": [
        "# ECUACION 1\n",
        "\n",
        "NOTA: LE CORRESPONDE A justo.fuentes@unisucrevirtual.edu.co\n"
      ],
      "metadata": {
        "id": "UPqqj2_M4b2_"
      }
    },
    {
      "cell_type": "code",
      "source": [],
      "metadata": {
        "id": "ZLUns1j14fQA"
      },
      "execution_count": null,
      "outputs": []
    },
    {
      "cell_type": "markdown",
      "source": [
        "# ECUACION 2\n",
        "\n",
        "NOTA: LE CORRESPONDE A justo.fuentes@unisucre.edu.co\n",
        "\n",
        "$$\n",
        "B = \\frac{2 * H}{Tan(\\alpha)}\n",
        "$$"
      ],
      "metadata": {
        "id": "ACqpAQ3y4gyx"
      }
    },
    {
      "cell_type": "code",
      "source": [
        "import math\n",
        "\n",
        "h = float(input(\"Ingrese Altura H:\\n\"))\n",
        "alfa = float(Input(\"Ingrese alfa: \\n\"))\n",
        "\n",
        "b = 2 * h / math.tan(alfa)\n",
        "\n",
        "print(\"B = \", b)"
      ],
      "metadata": {
        "id": "TK_K8OG58v_1"
      },
      "execution_count": null,
      "outputs": []
    },
    {
      "cell_type": "code",
      "source": [
        "dir(math)"
      ],
      "metadata": {
        "colab": {
          "base_uri": "https://localhost:8080/"
        },
        "id": "HFJEmnD39B-D",
        "outputId": "31609f2a-8b56-4005-bf52-4e4c4c10ccad"
      },
      "execution_count": null,
      "outputs": [
        {
          "output_type": "execute_result",
          "data": {
            "text/plain": [
              "['__doc__',\n",
              " '__loader__',\n",
              " '__name__',\n",
              " '__package__',\n",
              " '__spec__',\n",
              " 'acos',\n",
              " 'acosh',\n",
              " 'asin',\n",
              " 'asinh',\n",
              " 'atan',\n",
              " 'atan2',\n",
              " 'atanh',\n",
              " 'ceil',\n",
              " 'comb',\n",
              " 'copysign',\n",
              " 'cos',\n",
              " 'cosh',\n",
              " 'degrees',\n",
              " 'dist',\n",
              " 'e',\n",
              " 'erf',\n",
              " 'erfc',\n",
              " 'exp',\n",
              " 'expm1',\n",
              " 'fabs',\n",
              " 'factorial',\n",
              " 'floor',\n",
              " 'fmod',\n",
              " 'frexp',\n",
              " 'fsum',\n",
              " 'gamma',\n",
              " 'gcd',\n",
              " 'hypot',\n",
              " 'inf',\n",
              " 'isclose',\n",
              " 'isfinite',\n",
              " 'isinf',\n",
              " 'isnan',\n",
              " 'isqrt',\n",
              " 'lcm',\n",
              " 'ldexp',\n",
              " 'lgamma',\n",
              " 'log',\n",
              " 'log10',\n",
              " 'log1p',\n",
              " 'log2',\n",
              " 'modf',\n",
              " 'nan',\n",
              " 'nextafter',\n",
              " 'perm',\n",
              " 'pi',\n",
              " 'pow',\n",
              " 'prod',\n",
              " 'radians',\n",
              " 'remainder',\n",
              " 'sin',\n",
              " 'sinh',\n",
              " 'sqrt',\n",
              " 'tan',\n",
              " 'tanh',\n",
              " 'tau',\n",
              " 'trunc',\n",
              " 'ulp']"
            ]
          },
          "metadata": {},
          "execution_count": 2
        }
      ]
    },
    {
      "cell_type": "code",
      "source": [],
      "metadata": {
        "id": "bzcyBQ394jrQ"
      },
      "execution_count": null,
      "outputs": []
    },
    {
      "cell_type": "markdown",
      "source": [
        "# ECUACION 3\n",
        "\n",
        "NOTA: LE CORRESPONDE A justo.fuentes95@unisucrevirtual.edu.co"
      ],
      "metadata": {
        "id": "DN9Y_afx4ktI"
      }
    },
    {
      "cell_type": "code",
      "source": [],
      "metadata": {
        "id": "UTcjiLqi4m94"
      },
      "execution_count": null,
      "outputs": []
    }
  ]
}