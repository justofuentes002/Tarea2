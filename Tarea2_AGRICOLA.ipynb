{
  "nbformat": 4,
  "nbformat_minor": 0,
  "metadata": {
    "colab": {
      "provenance": [],
      "authorship_tag": "ABX9TyNeVAtmhGwQW903qj1vxvsh",
      "include_colab_link": true
    },
    "kernelspec": {
      "name": "python3",
      "display_name": "Python 3"
    },
    "language_info": {
      "name": "python"
    }
  },
  "cells": [
    {
      "cell_type": "markdown",
      "metadata": {
        "id": "view-in-github",
        "colab_type": "text"
      },
      "source": [
        "<a href=\"https://colab.research.google.com/github/justofuentes002/Tarea2/blob/main/Tarea2_AGRICOLA.ipynb\" target=\"_parent\"><img src=\"https://colab.research.google.com/assets/colab-badge.svg\" alt=\"Open In Colab\"/></a>"
      ]
    },
    {
      "cell_type": "markdown",
      "source": [
        "# INTRODUCCIÓN\n",
        "\n",
        "NOTA: LE CORRESPONDE A justorfc@gmail.com\n",
        "\n"
      ],
      "metadata": {
        "id": "fNAIvII14Xcv"
      }
    },
    {
      "cell_type": "markdown",
      "source": [
        "# ECUACION 1\n",
        "\n",
        "NOTA: LE CORRESPONDE A justo.fuentes@unisucrevirtual.edu.co\n"
      ],
      "metadata": {
        "id": "UPqqj2_M4b2_"
      }
    },
    {
      "cell_type": "code",
      "source": [],
      "metadata": {
        "id": "ZLUns1j14fQA"
      },
      "execution_count": null,
      "outputs": []
    },
    {
      "cell_type": "markdown",
      "source": [
        "# ECUACION 2\n",
        "\n",
        "NOTA: LE CORRESPONDE A justo.fuentes@unisucre.edu.co"
      ],
      "metadata": {
        "id": "ACqpAQ3y4gyx"
      }
    },
    {
      "cell_type": "code",
      "source": [],
      "metadata": {
        "id": "bzcyBQ394jrQ"
      },
      "execution_count": null,
      "outputs": []
    },
    {
      "cell_type": "markdown",
      "source": [
        "# ECUACION 3\n",
        "\n",
        "NOTA: LE CORRESPONDE A justo.fuentes95@unisucrevirtual.edu.co"
      ],
      "metadata": {
        "id": "DN9Y_afx4ktI"
      }
    },
    {
      "cell_type": "code",
      "source": [],
      "metadata": {
        "id": "UTcjiLqi4m94"
      },
      "execution_count": null,
      "outputs": []
    }
  ]
}